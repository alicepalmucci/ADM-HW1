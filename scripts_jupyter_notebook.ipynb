{
 "cells": [
  {
   "cell_type": "markdown",
   "id": "46e32612",
   "metadata": {},
   "source": [
    "# Homework 1 ADM\n",
    "Alice Palmucci 1836723"
   ]
  },
  {
   "cell_type": "markdown",
   "id": "252b4a4d",
   "metadata": {},
   "source": [
    "# Problem 1"
   ]
  },
  {
   "cell_type": "markdown",
   "id": "a5024d07",
   "metadata": {},
   "source": [
    "## Introduction"
   ]
  },
  {
   "cell_type": "code",
   "execution_count": null,
   "id": "6ae266a4",
   "metadata": {},
   "outputs": [],
   "source": [
    "#Say \"Hello, World!\" With Python\n",
    "print \"Hello, World!\""
   ]
  },
  {
   "cell_type": "code",
   "execution_count": null,
   "id": "3cb3136d",
   "metadata": {},
   "outputs": [],
   "source": [
    "#Python If-Else\n",
    "import math\n",
    "import os\n",
    "import random\n",
    "import re\n",
    "import sys\n",
    "\n",
    "if __name__ == '__main__':\n",
    "    n = int(raw_input().strip())\n",
    "if n%2 != 0:\n",
    "    print('Weird')\n",
    "if n%2==0 and n>=2 and n<=5:\n",
    "    print('Not Weird')\n",
    "if n%2==0 and n>=6 and n<=20:\n",
    "    print('Weird')\n",
    "if n%2==0 and n>20:\n",
    "    print('Not Weird')"
   ]
  },
  {
   "cell_type": "code",
   "execution_count": null,
   "id": "e09fa74d",
   "metadata": {},
   "outputs": [],
   "source": [
    "#Arithmetic Operators\n",
    "if __name__ == '__main__':\n",
    "    a = int(raw_input())\n",
    "    b = int(raw_input())\n",
    "print(a+b)\n",
    "print(a-b)\n",
    "print(a*b)"
   ]
  },
  {
   "cell_type": "code",
   "execution_count": null,
   "id": "b567e0be",
   "metadata": {},
   "outputs": [],
   "source": [
    "#Python: Division\n",
    "print(a//b)\n",
    "print(a/b)"
   ]
  },
  {
   "cell_type": "code",
   "execution_count": null,
   "id": "a5c27623",
   "metadata": {},
   "outputs": [],
   "source": [
    "#Write a function\n",
    "def is_leap(year):\n",
    "    leap = False\n",
    "    if year%4==0:\n",
    "        if year%100==0 and year%400==0:\n",
    "            leap = True\n",
    "        if year%100==0 and year%400 != 0:\n",
    "            leap = False\n",
    "        else:\n",
    "            leap = True\n",
    "        \n",
    "    return leap\n"
   ]
  },
  {
   "cell_type": "code",
   "execution_count": null,
   "id": "816faa20",
   "metadata": {},
   "outputs": [],
   "source": [
    "#Print Function\n",
    "res = ''\n",
    "for i in range(1,n+1):\n",
    "    res += str(i)\n",
    "print(res)"
   ]
  },
  {
   "cell_type": "code",
   "execution_count": null,
   "id": "c31f49aa",
   "metadata": {},
   "outputs": [],
   "source": [
    "#Loops\n",
    "for i in range(n):\n",
    "    print(i**2)"
   ]
  },
  {
   "cell_type": "markdown",
   "id": "ce0f06ad",
   "metadata": {},
   "source": [
    "## Data Types (6)"
   ]
  },
  {
   "cell_type": "code",
   "execution_count": null,
   "id": "ba8ba42c",
   "metadata": {},
   "outputs": [],
   "source": [
    "#List Comprehension\n",
    "if __name__ == '__main__':\n",
    "    x = int(raw_input())\n",
    "    y = int(raw_input())\n",
    "    z = int(raw_input())\n",
    "    n = int(raw_input())\n",
    "\n",
    "lst = [[i,j,k] for i in range(x+1) for j in range(y+1) for k in range(z+1) if i+j+k != n]\n",
    "print(lst)"
   ]
  },
  {
   "cell_type": "code",
   "execution_count": null,
   "id": "e9a65cf9",
   "metadata": {},
   "outputs": [],
   "source": [
    "#find the Runner-up Score\n",
    "if __name__ == '__main__':\n",
    "    n = int(raw_input())\n",
    "    arr = map(int, raw_input().split())\n",
    "\n",
    "a = list(arr)\n",
    "massimo = max(a)\n",
    "for i in range(n):\n",
    "    if massimo == max(a):\n",
    "        a.remove(max(a))\n",
    "print(max(a))"
   ]
  },
  {
   "cell_type": "code",
   "execution_count": null,
   "id": "f100cf6f",
   "metadata": {},
   "outputs": [],
   "source": [
    "#lists\n",
    "if __name__ == '__main__':\n",
    "    N = int(input())\n",
    "inputs = []\n",
    "for i in range(N):\n",
    "    \n",
    "    inp = input().split()\n",
    "    inputs.append(inp)\n",
    "\n",
    "arr = []\n",
    "for i in inputs:\n",
    "    if i[0] == 'insert':\n",
    "        arr.insert(int(i[1]),int(i[2]))\n",
    "    if i[0] == 'print':\n",
    "        print(arr)\n",
    "    if i[0] == 'remove':\n",
    "        arr.remove(int(i[1]))\n",
    "    if i[0]== 'append':\n",
    "        arr.append(int(i[1]))\n",
    "    if i[0] == 'sort':\n",
    "        arr.sort()\n",
    "    if i[0]== 'pop':\n",
    "        arr.pop()\n",
    "    if i[0] == 'reverse':\n",
    "        arr.reverse()"
   ]
  },
  {
   "cell_type": "code",
   "execution_count": null,
   "id": "9dda298b",
   "metadata": {},
   "outputs": [],
   "source": [
    "#tuples\n",
    "if __name__ == '__main__':\n",
    "    n = int(input())\n",
    "    integer_list = map(int, input().split())\n",
    "\n",
    "    \n",
    "l=[]\n",
    "for i in integer_list:\n",
    "    l.append(i)\n",
    "t = tuple(l)\n",
    "hash_value = hash(t)\n",
    "print(hash_value)"
   ]
  },
  {
   "cell_type": "code",
   "execution_count": null,
   "id": "9791fa06",
   "metadata": {},
   "outputs": [],
   "source": [
    "#nested lists\n",
    "if __name__ == '__main__':\n",
    "    name_score = []\n",
    "    for _ in range(int(input())):\n",
    "        name = input()\n",
    "        score = float(input())\n",
    "        name_score.append([name,score])  \n",
    "   \n",
    "\n",
    "voti = []\n",
    "for i in range(len(name_score)):\n",
    "    voti.append(name_score[i][1])\n",
    "\n",
    "\n",
    "minima = min(voti)\n",
    "for i in voti:\n",
    "    if i == minima:\n",
    "        voti.remove(i)\n",
    "    \n",
    "min2 = min(voti)\n",
    "res = []\n",
    "for i in range(len(name_score)):\n",
    "    if name_score[i][1] == min2:\n",
    "        res.append(name_score[i][0])\n",
    "res.sort()\n",
    "for i in res:\n",
    "    print(i)\n",
    "            \n",
    "#unsuccessful     "
   ]
  },
  {
   "cell_type": "code",
   "execution_count": null,
   "id": "a4aa0e79",
   "metadata": {},
   "outputs": [],
   "source": [
    "#Find the percentage\n",
    "if __name__ == '__main__':\n",
    "    n = int(input())\n",
    "    stud_voti = {}\n",
    "    for _ in range(n):\n",
    "        name, *line = input().split()\n",
    "        scores = list(map(float, line))\n",
    "        stud_voti[name] = scores\n",
    "    query_name = input()\n",
    "\n",
    "    output = list(stud_voti[query_name])\n",
    "    per = sum(output)/len(output);\n",
    "    print(\"%.2f\"%per)"
   ]
  },
  {
   "cell_type": "markdown",
   "id": "b1ad18b5",
   "metadata": {},
   "source": [
    "## Strings (14)"
   ]
  },
  {
   "cell_type": "code",
   "execution_count": null,
   "id": "bee40b78",
   "metadata": {},
   "outputs": [],
   "source": [
    "#sWAP cASE\n",
    "def swap_case(s):\n",
    "    str=''\n",
    "    for i in s:\n",
    "        if (i.isupper()==True):\n",
    "            str+=i.lower()\n",
    "        elif (i.islower()==True):\n",
    "            str+=i.upper()\n",
    "        else:\n",
    "            str+=i\n",
    "    return str"
   ]
  },
  {
   "cell_type": "code",
   "execution_count": null,
   "id": "cc1b2348",
   "metadata": {},
   "outputs": [],
   "source": [
    "#String split and join\n",
    "def split_and_join(line):\n",
    "    lst = line.split()\n",
    "    return('-'.join(lst))\n",
    "\n",
    "if __name__ == '__main__':\n",
    "    line = input()\n",
    "    result = split_and_join(line)\n",
    "    print(result)\n"
   ]
  },
  {
   "cell_type": "code",
   "execution_count": null,
   "id": "055e96c2",
   "metadata": {},
   "outputs": [],
   "source": [
    "#what's your name\n",
    "def print_full_name(first, last):\n",
    "    print('Hello {} {}! You just delved into python.'.format(first,last))"
   ]
  },
  {
   "cell_type": "code",
   "execution_count": null,
   "id": "fb0e170a",
   "metadata": {},
   "outputs": [],
   "source": [
    "#Mutations\n",
    "def mutate_string(string, position, character):\n",
    "    l = []\n",
    "    for i in string:\n",
    "        l.append(i)\n",
    "    l[position]=character\n",
    "    s = ''.join(l)    \n",
    "        \n",
    "    return s"
   ]
  },
  {
   "cell_type": "code",
   "execution_count": 1,
   "id": "2b711807",
   "metadata": {},
   "outputs": [],
   "source": [
    "#find a string\n",
    "def count_substring(string, sub_string):\n",
    "    count = 0\n",
    "    for i in range(len(string)):\n",
    "        if string[i:].startswith(sub_string):\n",
    "            count += 1\n",
    "    return count\n",
    "\n",
    "if __name__ == '__main__':\n",
    "    string = input().strip()\n",
    "    sub_string = input().strip()\n",
    "    \n",
    "    count = count_substring(string, sub_string)\n",
    "    print(count)"
   ]
  },
  {
   "cell_type": "code",
   "execution_count": null,
   "id": "16543c14",
   "metadata": {},
   "outputs": [],
   "source": [
    "#String Validators\n",
    "if __name__ == '__main__':\n",
    "    s = input()\n",
    "\n",
    "cont0 = 0\n",
    "for i in s:\n",
    "    if i.isalnum():\n",
    "        cont0 += 1\n",
    "if cont0 >= 1:\n",
    "    print('True')\n",
    "else:\n",
    "    print('False')\n",
    "    \n",
    "cont1 = 0\n",
    "for i in s:\n",
    "    if i.isalpha():\n",
    "        cont1 += 1\n",
    "if cont1 >= 1:\n",
    "    print('True')\n",
    "else:\n",
    "    print('False')\n",
    "    \n",
    "cont2 = 0\n",
    "for i in s:\n",
    "    if i.isdigit():\n",
    "        cont2 += 1\n",
    "if cont2 >= 1:\n",
    "    print('True')\n",
    "else:\n",
    "    print('False')\n",
    "    \n",
    "cont3 = 0\n",
    "for i in s:\n",
    "    if i.islower():\n",
    "        cont3 += 1\n",
    "if cont3 >= 1:\n",
    "    print('True')\n",
    "else:\n",
    "    print('False')\n",
    "    \n",
    "cont4 = 0\n",
    "for i in s:\n",
    "    if i.isupper():\n",
    "        cont4 += 1\n",
    "if cont4 >= 1:\n",
    "    print('True')\n",
    "else:\n",
    "    print('False')"
   ]
  },
  {
   "cell_type": "code",
   "execution_count": null,
   "id": "83a8a37a",
   "metadata": {},
   "outputs": [],
   "source": [
    "#text wrap\n",
    "import textwrap\n",
    "\n",
    "def wrap(string, max_width):\n",
    "    # Text Wrap in Python - HackerRank Solution START\n",
    "    return textwrap.fill(string,max_width)"
   ]
  },
  {
   "cell_type": "code",
   "execution_count": null,
   "id": "c676a8f8",
   "metadata": {},
   "outputs": [],
   "source": [
    "#text alignment\n",
    "n=int(input())\n",
    "\n",
    "for i in range(n):\n",
    "    print(('H'*i).rjust(n-1)+'H'+('H'*i).ljust(n-1))\n",
    "    \n",
    "for i in range(n+1):\n",
    "    print(('H'*n).center(n*2)+('H'*n).center(n*6))\n",
    "    \n",
    "for i in range((n+1)//2):\n",
    "    print(('H'*n*5).center(n*6))    \n",
    "\n",
    "for i in range(n+1):\n",
    "    print(('H'*n).center(n*2)+('H'*n).center(n*6))    \n",
    "\n",
    "for i in range(n):\n",
    "    print((('H'*(n-i-1)).rjust(n)+'H'+('H'*(n-i-1)).ljust(n)).rjust(n*6))"
   ]
  },
  {
   "cell_type": "code",
   "execution_count": null,
   "id": "b7d048d4",
   "metadata": {},
   "outputs": [],
   "source": [
    "#designer door mat problem\n",
    "N, M = map(int,input().split())\n",
    "for i in range(1,N,2): \n",
    "    print((i * \".|.\").center(M, \"-\"))\n",
    "print(\"WELCOME\".center(M,\"-\"))\n",
    "for i in range(N-2,-1,-2): \n",
    "    print((i * \".|.\").center(M, \"-\"))"
   ]
  },
  {
   "cell_type": "code",
   "execution_count": null,
   "id": "cf567b3a",
   "metadata": {},
   "outputs": [],
   "source": [
    "#String Formatting\n",
    "def print_formatted(number):\n",
    "    l1 = len(bin(number)[2:])\n",
    "    for i in range(1,number+1):\n",
    "        print(str(i).rjust(l1,' '),end=\" \")\n",
    "        print(oct(i)[2:].rjust(l1,' '),end=\" \")\n",
    "        print(((hex(i)[2:]).upper()).rjust(l1,' '),end=\" \")\n",
    "        print(bin(i)[2:].rjust(l1,' '),end=\" \")\n",
    "        print(\"\")\n"
   ]
  },
  {
   "cell_type": "code",
   "execution_count": null,
   "id": "790368e5",
   "metadata": {},
   "outputs": [],
   "source": [
    "#alphabeth rangoli\n",
    "    L = []\n",
    "    for i in range(n):\n",
    "        s = \"-\".join(alpha[i:n])\n",
    "        L.append((s[::-1]+s[1:]).center(4*n-3, \"-\"))\n",
    "        \n",
    "    print('\\n'.join(L[:0:-1]+L))"
   ]
  },
  {
   "cell_type": "code",
   "execution_count": null,
   "id": "e482731a",
   "metadata": {},
   "outputs": [],
   "source": [
    "#capitalize!\n",
    "def solve(s):\n",
    "    l = s.split()\n",
    "    for i in l:\n",
    "        s = s.replace(i,i.capitalize())\n",
    "    return s\n"
   ]
  },
  {
   "cell_type": "code",
   "execution_count": null,
   "id": "7b04b1e3",
   "metadata": {},
   "outputs": [],
   "source": [
    "#minion game\n",
    "def minion_game(string):\n",
    "    score1 = 0\n",
    "    score2 = 0\n",
    "    for i in range(len(string)):\n",
    "        if string[i] in 'AEIOU':\n",
    "            score1+= len(string) - i        \n",
    "        else:\n",
    "            score2+= len(string) - i\n",
    "    \n",
    "    if score1 > score2:\n",
    "        print(\"Kevin\", score1)\n",
    "    elif score1 < score2:\n",
    "        print(\"Stuart\",score2)\n",
    "    elif score1 == score2:\n",
    "        print(\"Draw\")\n",
    "    else :\n",
    "        print(\"Draw\")\n",
    "if __name__ == '__main__':\n",
    "    s = input()\n",
    "    minion_game(s)"
   ]
  },
  {
   "cell_type": "code",
   "execution_count": null,
   "id": "e26c534c",
   "metadata": {},
   "outputs": [],
   "source": [
    "#merge the tools\n",
    "for i in range(0,len(string), k):\n",
    "        line = string[i:i+k]\n",
    "        new = \"\"\n",
    "        for i in line:\n",
    "            if i not in new:\n",
    "                new+=i\n",
    "        print(new)"
   ]
  },
  {
   "cell_type": "code",
   "execution_count": null,
   "id": "392db459",
   "metadata": {},
   "outputs": [],
   "source": [
    "#company logo\n",
    "s = str(input())\n",
    "Dict={}\n",
    "for i in sorted(s):\n",
    "    Dict[i]=Dict.get(i,0)+1   \n",
    "Dict_keys=sorted(Dict, key=Dict.get, reverse=True)  \n",
    "\n",
    "for key in Dict_keys[:3]:\n",
    "    print(key,Dict[key])"
   ]
  },
  {
   "cell_type": "markdown",
   "id": "52d05bdd",
   "metadata": {},
   "source": [
    "## Sets (13)"
   ]
  },
  {
   "cell_type": "code",
   "execution_count": null,
   "id": "dc15212b",
   "metadata": {},
   "outputs": [],
   "source": [
    "#Introduction to Sets\n",
    "def average(array):\n",
    "    sum_array = sum(set(array))\n",
    "    len_array = len(set(array))\n",
    "    output = sum_array/len_array\n",
    "    return output;\n",
    "\n",
    "if __name__ == '__main__':\n",
    "    n = int(input())\n",
    "    arr = list(map(int, input().split()))\n",
    "    result = average(arr)\n",
    "    print(result)"
   ]
  },
  {
   "cell_type": "code",
   "execution_count": null,
   "id": "ab50b37a",
   "metadata": {},
   "outputs": [],
   "source": [
    "#set.add()\n",
    "N = int(input())\n",
    "\n",
    "countries = set()\n",
    "\n",
    "for i in range(N):\n",
    "    countries.add(input())\n",
    "\n",
    "print(len(countries))"
   ]
  },
  {
   "cell_type": "code",
   "execution_count": null,
   "id": "87f9efee",
   "metadata": {},
   "outputs": [],
   "source": [
    "#symmetric difference\n",
    "M = int(input())\n",
    "mset = set(map(int, input().split()))\n",
    "N = int(input())\n",
    "nset = set(map(int, input().split()))\n",
    "\n",
    "mdef = mset.difference(nset)\n",
    "ndef = nset.difference(mset)\n",
    "\n",
    "diff = mdef.union(ndef)\n",
    "\n",
    "for i in sorted(list(diff)):\n",
    "    print(i)"
   ]
  },
  {
   "cell_type": "code",
   "execution_count": null,
   "id": "f13f3bbe",
   "metadata": {},
   "outputs": [],
   "source": [
    "#No idea!\n",
    "n, m = map(int,input().split())\n",
    "arr = map(int,input().split())\n",
    "a = set(map(int,input().split()))\n",
    "b = set(map(int,input().split()))\n",
    "happiness = 0\n",
    "for i in arr:\n",
    "    if i in a:\n",
    "        happiness += 1\n",
    "    elif i in b:\n",
    "        happiness -= 1\n",
    "print(happiness)"
   ]
  },
  {
   "cell_type": "code",
   "execution_count": null,
   "id": "53bea182",
   "metadata": {},
   "outputs": [],
   "source": [
    "#Set .union() Operation\n",
    "n = int(input())\n",
    "stud_n = set(input().split())\n",
    "b = int(input())\n",
    "stud_b = set(input().split())\n",
    "\n",
    "print(len(stud_n.union(stud_b)))"
   ]
  },
  {
   "cell_type": "code",
   "execution_count": null,
   "id": "c64820cd",
   "metadata": {},
   "outputs": [],
   "source": [
    "#Set .intersection() Operation\n",
    "n = int(input())\n",
    "stud_n = set(input().split())\n",
    "b = int(input())\n",
    "stud_b = set(input().split())\n",
    "print(len(stud_n.intersection(stud_b)))"
   ]
  },
  {
   "cell_type": "code",
   "execution_count": null,
   "id": "0323fce4",
   "metadata": {},
   "outputs": [],
   "source": [
    "#Set .difference() Operation\n",
    "n = int(input())\n",
    "stud_n = set(input().split())\n",
    "b = int(input())\n",
    "stud_b = set(input().split())\n",
    "print(len(stud_n.difference(stud_b)))"
   ]
  },
  {
   "cell_type": "code",
   "execution_count": null,
   "id": "4cedf9a7",
   "metadata": {},
   "outputs": [],
   "source": [
    "#Set .symmetric_difference() Operation\n",
    "n = int(input())\n",
    "stud_n = set(input().split())\n",
    "b = int(input())\n",
    "stud_b = set(input().split())\n",
    "print(len(stud_n.symmetric_difference(stud_b)))"
   ]
  },
  {
   "cell_type": "code",
   "execution_count": null,
   "id": "9d126c81",
   "metadata": {},
   "outputs": [],
   "source": [
    "#Set Mutations\n",
    "len_A = int(input())\n",
    "\n",
    "A = set(map(int, input().split()))\n",
    "\n",
    "op_len = int(input())\n",
    "\n",
    "for i in range(op_len):\n",
    "    operation = input().split()\n",
    "    if operation[0] == 'intersection_update':\n",
    "        temp_A = set(map(int, input().split()))\n",
    "        A.intersection_update(temp_A)\n",
    "    elif operation[0] == 'update':\n",
    "        temp_A = set(map(int, input().split()))\n",
    "        A.update(temp_A)\n",
    "    elif operation[0] == 'symmetric_difference_update':\n",
    "        temp_A = set(map(int, input().split()))\n",
    "        A.symmetric_difference_update(temp_A)\n",
    "    elif operation[0] == 'difference_update':\n",
    "        temp_A = set(map(int, input().split()))\n",
    "        A.difference_update(temp_A)\n",
    "    else :\n",
    "        assert False\n",
    "\n",
    "print(sum(A))"
   ]
  },
  {
   "cell_type": "code",
   "execution_count": null,
   "id": "401721ac",
   "metadata": {},
   "outputs": [],
   "source": [
    "#Captain's room\n",
    "N = int(input())\n",
    "\n",
    "rooms = map(int, input().split())\n",
    "rooms = sorted(rooms)\n",
    "\n",
    "for i in range(len(rooms)):\n",
    "    if(i != len(rooms)-1):\n",
    "        if(rooms[i]!=rooms[i-1] and rooms[i]!=rooms[i+1]):\n",
    "            print(rooms[i])\n",
    "            break;\n",
    "    else:\n",
    "        print(rooms[i])"
   ]
  },
  {
   "cell_type": "code",
   "execution_count": null,
   "id": "82c0864d",
   "metadata": {},
   "outputs": [],
   "source": [
    "#Check Subset\n",
    "T = int(input())\n",
    "for _ in range(T):\n",
    "    a = input()\n",
    "    A = set(input().split())\n",
    "    b = int(input())\n",
    "    B = set(input().split())\n",
    "    print(A.issubset(B))"
   ]
  },
  {
   "cell_type": "code",
   "execution_count": null,
   "id": "079bd7fb",
   "metadata": {},
   "outputs": [],
   "source": [
    "#Check Strict Superset\n",
    "\n",
    "A = set(input().split())\n",
    "n = int(input())\n",
    "output = True\n",
    "\n",
    "for i in range(n):\n",
    "    b = set(input().split())\n",
    "    if not b.issubset(A):\n",
    "        output = False\n",
    "    if len(b) >= len(A):\n",
    "        output = False\n",
    "\n",
    "print(output)"
   ]
  },
  {
   "cell_type": "code",
   "execution_count": 2,
   "id": "79c75ebb",
   "metadata": {},
   "outputs": [],
   "source": [
    "#defaultdict\n",
    "from collections import defaultdict\n",
    "d = defaultdict(list)\n",
    "list1=[]\n",
    "\n",
    "n, m = map(int,input().split())\n",
    "\n",
    "for i in range(0,n):\n",
    "    d[input()].append(i+1) \n",
    "\n",
    "for i in range(0,m):\n",
    "    list1=list1+[input()]  \n",
    "\n",
    "for i in list1: \n",
    "    if i in d:\n",
    "        print(\" \".join( map(str,d[i])))\n",
    "    else:\n",
    "        print(-1)"
   ]
  },
  {
   "cell_type": "markdown",
   "id": "aff86820",
   "metadata": {},
   "source": [
    "## Collections (8)"
   ]
  },
  {
   "cell_type": "code",
   "execution_count": null,
   "id": "137eaabd",
   "metadata": {},
   "outputs": [],
   "source": [
    "#Collections.Counter()\n",
    "import collections\n",
    "\n",
    "N = int(input())\n",
    "shoes = collections.Counter(map(int, input().split()))\n",
    "clients = int(input())\n",
    "\n",
    "earned = 0\n",
    "\n",
    "for i in range(clients):\n",
    "    size, price = map(int, input().split())\n",
    "    if shoes[size]: \n",
    "        earned += price\n",
    "        shoes[size] -= 1\n",
    "\n",
    "print(earned)"
   ]
  },
  {
   "cell_type": "code",
   "execution_count": null,
   "id": "c5d0b206",
   "metadata": {},
   "outputs": [],
   "source": [
    "#Collections.namedtuple()\n",
    "from collections import namedtuple\n",
    "N = int(input())\n",
    "col = input().split()\n",
    "tot = 0\n",
    "for i in range(N):\n",
    "    students = namedtuple('student', col)\n",
    "    MARKS, CLASS, NAME, ID = input().split()\n",
    "    student = students(MARKS, CLASS, NAME, ID)\n",
    "    tot += int(student.MARKS)\n",
    "print('{:.2f}'.format(tot / N))"
   ]
  },
  {
   "cell_type": "code",
   "execution_count": null,
   "id": "81b41767",
   "metadata": {},
   "outputs": [],
   "source": [
    "#Collections.OrderedDict()\n",
    "from collections import OrderedDict\n",
    "N = int(input())\n",
    "dic = OrderedDict()\n",
    "\n",
    "for i in range(N):\n",
    "    items = input().split()\n",
    "    price = int(items[-1])\n",
    "    name = ' '.join(items[:-1])\n",
    "    if(dic.get(name)):\n",
    "        dic[name] += price\n",
    "    else:\n",
    "        dic[name] = price\n",
    "for i in dic.keys():\n",
    "    print(i,dic[i])"
   ]
  },
  {
   "cell_type": "code",
   "execution_count": 7,
   "id": "faaae1c8",
   "metadata": {},
   "outputs": [
    {
     "data": {
      "text/plain": [
       "dict_values([6, 0])"
      ]
     },
     "execution_count": 7,
     "metadata": {},
     "output_type": "execute_result"
    }
   ],
   "source": [
    "#Word Order\n",
    "from collections import OrderedDict, Counter\n",
    "n = int(input())\n",
    "words = [input().strip() for _ in range(n)]\n",
    "counts = Counter(words)\n",
    "\n",
    "print(len(counts))\n",
    "print(*counts.values())"
   ]
  },
  {
   "cell_type": "code",
   "execution_count": 8,
   "id": "df985e04",
   "metadata": {
    "collapsed": true
   },
   "outputs": [
    {
     "data": {
      "text/plain": [
       "2"
      ]
     },
     "execution_count": 8,
     "metadata": {},
     "output_type": "execute_result"
    }
   ],
   "source": [
    "#Collectionds.deque()\n",
    "from collections import deque\n",
    "d = deque()\n",
    "for _ in range(int(input())):\n",
    "    op, *args = input().split()\n",
    "    getattr(d, op)(*args)\n",
    "[print(x, end=' ') for x in d]\n",
    "    "
   ]
  },
  {
   "cell_type": "code",
   "execution_count": null,
   "id": "2751de69",
   "metadata": {},
   "outputs": [],
   "source": [
    "#DefaultDict tutorial\n",
    "from collections import defaultdict\n",
    "d = defaultdict(list)\n",
    "list1=[]\n",
    "\n",
    "n, m = map(int,input().split())\n",
    "\n",
    "for i in range(0,n):\n",
    "    d[input()].append(i+1) \n",
    "\n",
    "for i in range(0,m):\n",
    "    list1=list1+[input()]  \n",
    "\n",
    "for i in list1: \n",
    "    if i in d:\n",
    "        print(\" \".join( map(str,d[i])))\n",
    "    else:\n",
    "        print(-1)\n"
   ]
  },
  {
   "cell_type": "code",
   "execution_count": null,
   "id": "c6496c01",
   "metadata": {},
   "outputs": [],
   "source": [
    "#Word order\n",
    "from collections import OrderedDict, Counter\n",
    "n = int(input())\n",
    "words = [input().strip() for _ in range(n)]\n",
    "counts = Counter(words)\n",
    "\n",
    "print(len(counts))\n",
    "print(*counts.values())"
   ]
  },
  {
   "cell_type": "code",
   "execution_count": null,
   "id": "da35d4b7",
   "metadata": {},
   "outputs": [],
   "source": [
    "#Piling Up!\n",
    "from collections import deque\n",
    "\n",
    "N = int(input())\n",
    "\n",
    "for _ in range(N):\n",
    "    flag = True\n",
    "    input()\n",
    "    d = deque(map(int, input().strip().split()))\n",
    "    if(d[0] >= d[-1]):\n",
    "        max = d.popleft()\n",
    "    else:\n",
    "        max = d.pop()\n",
    "    while d:\n",
    "        if(len(d)==1):\n",
    "            if(d[0] <= max):\n",
    "                break\n",
    "            else:\n",
    "                flag = False\n",
    "                break\n",
    "        else:\n",
    "            if(d[0]<=max and d[-1]<=max):\n",
    "                if(d[0]>=d[-1]):\n",
    "                    max = d.popleft()\n",
    "                else:\n",
    "                    max = d.pop()\n",
    "            elif(d[0]<=max):\n",
    "                max = d.popleft()\n",
    "            elif(d[-1]<=max):\n",
    "                max = d.pop()\n",
    "            else:\n",
    "                flag = False\n",
    "                break\n",
    "    if flag:\n",
    "        print(\"Yes\")\n",
    "    else:\n",
    "        print(\"No\")"
   ]
  },
  {
   "cell_type": "markdown",
   "id": "104c2e75",
   "metadata": {},
   "source": [
    "## Date and Time (2)"
   ]
  },
  {
   "cell_type": "code",
   "execution_count": null,
   "id": "56d636e4",
   "metadata": {},
   "outputs": [],
   "source": [
    "#CALENDAR MODULE\n",
    "import datetime\n",
    "import calendar\n",
    "\n",
    "m, d, y = map(int, input().split())\n",
    "input_date = datetime.date(y, m, d)\n",
    "print(calendar.day_name[input_date.weekday()].upper())"
   ]
  },
  {
   "cell_type": "code",
   "execution_count": null,
   "id": "0d484d3d",
   "metadata": {},
   "outputs": [],
   "source": [
    "#Time Delta\n",
    "from datetime import datetime\n",
    "\n",
    "def delta(d1,d2):\n",
    "    f= '%a %d %b %Y %H:%M:%S %z'\n",
    "    d1 = datetime.strptime(d1, f) \n",
    "    d2 = datetime.strptime(d2, f) \n",
    "    diff = (d2-d1).total_seconds()  \n",
    "    return abs(int(diff))\n",
    "\n",
    "for _ in range(int(input())):\n",
    "    print(delta(input(), input()))"
   ]
  },
  {
   "cell_type": "markdown",
   "id": "8cc472c3",
   "metadata": {},
   "source": [
    "## Exceptions (1)"
   ]
  },
  {
   "cell_type": "code",
   "execution_count": null,
   "id": "b3444a63",
   "metadata": {},
   "outputs": [],
   "source": [
    "T = int(input())\n",
    "\n",
    "for i in range(T):\n",
    "    try:\n",
    "        a,b=map(int,input().split())\n",
    "        print(a//b)\n",
    "    except Exception as e:\n",
    "        print(\"Error Code:\",e)"
   ]
  },
  {
   "cell_type": "markdown",
   "id": "2d637f5f",
   "metadata": {},
   "source": [
    "## Buits-in (3)"
   ]
  },
  {
   "cell_type": "code",
   "execution_count": null,
   "id": "2fbd9e94",
   "metadata": {},
   "outputs": [],
   "source": [
    "#Zipped!\n",
    "n, x = map(int,input().split())   # n students x subjects\n",
    "\n",
    "\n",
    "sheet = []\n",
    "for _ in range(x):\n",
    "    sheet.append(map(float, input().split()))\n",
    "\n",
    "for i in zip(*sheet):\n",
    "    print(sum(i) / len(i))"
   ]
  },
  {
   "cell_type": "code",
   "execution_count": null,
   "id": "2db55d2a",
   "metadata": {},
   "outputs": [],
   "source": [
    "#Athlete Sort\n",
    "n, m = map(int,input().split())\n",
    "rows = []\n",
    "for _ in range(n):\n",
    "    rows.append(list(map(int, input().rstrip().split())))\n",
    "k = int(input())\n",
    "\n",
    "l = sorted(rows, key=lambda row:row[k])\n",
    "for i in range(len(l)):\n",
    "        for j in range(len(l[i])):\n",
    "            print(l[i][j], end=' ')\n",
    "        print()"
   ]
  },
  {
   "cell_type": "code",
   "execution_count": null,
   "id": "9b62550c",
   "metadata": {},
   "outputs": [],
   "source": [
    "#ginortS\n",
    "lower_case = []\n",
    "upper_case = []\n",
    "odd_digits = []\n",
    "even_digits = []\n",
    "s = input()\n",
    "for char in s:\n",
    "    if char.islower():\n",
    "        lower_case.append(char)\n",
    "    elif char.isupper():\n",
    "        upper_case.append(char)\n",
    "    elif char.isdigit():\n",
    "        if int(char)%2==0:\n",
    "            even_digits.append(char)\n",
    "        else:\n",
    "            odd_digits.append(char)\n",
    "print(''.join(sorted(lower_case)+sorted(upper_case)+sorted(odd_digits)+sorted(even_digits)))"
   ]
  },
  {
   "cell_type": "markdown",
   "id": "fa766516",
   "metadata": {},
   "source": [
    "## Python functionals (1)"
   ]
  },
  {
   "cell_type": "code",
   "execution_count": null,
   "id": "f0045b58",
   "metadata": {},
   "outputs": [],
   "source": [
    "#Map and Lambda function\n",
    "cube = lambda x: pow(x,3) # complete the lambda function \n",
    "\n",
    "def fibonacci(n):\n",
    "    # return a list of fibonacci numbers\n",
    "    fib = [0,1]\n",
    "    for i in range(2,n):\n",
    "        fib.append(fib[i-2]+fib[i-1])\n",
    "    return(fib)\n",
    "   "
   ]
  },
  {
   "cell_type": "markdown",
   "id": "095fe2ee",
   "metadata": {},
   "source": [
    "## Regex and Parsing challenges (17)"
   ]
  },
  {
   "cell_type": "code",
   "execution_count": null,
   "id": "24d1b670",
   "metadata": {},
   "outputs": [],
   "source": [
    "#Detect floating point number\n",
    "T = int(input())\n",
    "s = []\n",
    "ok = ['+','-','.']\n",
    "for i in range(T):\n",
    "    i = input()\n",
    "    s.append(i)\n",
    "for i in s:\n",
    "    if i.count('.') == 1:\n",
    "        for j in i:\n",
    "            if (j in ok or j.isdigit() == 'True'):\n",
    "                print('True')\n",
    "    else:\n",
    "        print('False')"
   ]
  },
  {
   "cell_type": "code",
   "execution_count": null,
   "id": "0df64c05",
   "metadata": {},
   "outputs": [],
   "source": [
    "#re.split()\n",
    "regex_pattern = r\"[.,]+\"\n"
   ]
  },
  {
   "cell_type": "code",
   "execution_count": null,
   "id": "a7cb9589",
   "metadata": {},
   "outputs": [],
   "source": [
    "#Group(), Groups() & Groupdict()\n",
    "import re\n",
    "m = re.search(r'([a-zA-Z0-9])\\1', input().strip())\n",
    "print(m.group(1) if m else -1)"
   ]
  },
  {
   "cell_type": "code",
   "execution_count": null,
   "id": "1996e3cd",
   "metadata": {},
   "outputs": [],
   "source": [
    "#Re.findall() & Re.finditer()\n",
    "import re\n",
    "\n",
    "vowels = 'aeiou'\n",
    "consonants = 'qwrtypsdfghjklzxcvbnm'\n",
    "match = re.findall(r'(?<=[' + consonants + '])([' + vowels + ']{2,})(?=[' + consonants + '])', input(), flags=re.I)\n",
    "print('\\n'.join(match or ['-1']))"
   ]
  },
  {
   "cell_type": "code",
   "execution_count": null,
   "id": "a5cfaaef",
   "metadata": {},
   "outputs": [],
   "source": [
    "#Re.start() & Re.end()\n",
    "\n",
    "\n",
    "import re\n",
    "\n",
    "S, k = input(), input()\n",
    "matches = re.finditer(r'(?=(' + k + '))', S)\n",
    "\n",
    "anymatch = False\n",
    "for match in matches:\n",
    "    anymatch = True\n",
    "    print((match.start(1), match.end(1) - 1))\n",
    "\n",
    "if anymatch == False:\n",
    "    print((-1, -1))"
   ]
  },
  {
   "cell_type": "code",
   "execution_count": null,
   "id": "e0899ed1",
   "metadata": {},
   "outputs": [],
   "source": [
    "#Regex Substitution\n",
    "import re\n",
    "\n",
    "for _ in range(int(input())):\n",
    "    print(re.sub(r'(?<= )(&&|\\|\\|)(?= )', lambda x: 'and' if x.group() == '&&' else 'or', input()))"
   ]
  },
  {
   "cell_type": "code",
   "execution_count": null,
   "id": "cbea429c",
   "metadata": {},
   "outputs": [],
   "source": [
    "# Validating Roman Numerals\n",
    "thousand = 'M{0,3}'\n",
    "hundred = '(C[MD]|D?C{0,3})'\n",
    "ten = '(X[CL]|L?X{0,3})'\n",
    "digit = '(I[VX]|V?I{0,3})'\n",
    "regex_pattern = r\"%s%s%s%s$\" % (thousand, hundred, ten, digit)    \n",
    "\n",
    "import re\n",
    "print(str(bool(re.match(regex_pattern, input()))))"
   ]
  },
  {
   "cell_type": "code",
   "execution_count": null,
   "id": "5ef652b3",
   "metadata": {},
   "outputs": [],
   "source": [
    "#Validating phone numbers\n",
    "import re\n",
    "\n",
    "N = int(input())\n",
    "\n",
    "for i in range(N):\n",
    "    number = input()\n",
    "    if(len(number)==10 and number.isdigit()):\n",
    "        output = re.findall(r\"^[789]\\d{9}$\",number)\n",
    "        if(len(output)==1):\n",
    "            print(\"YES\")\n",
    "        else:\n",
    "            print(\"NO\")\n",
    "    else:\n",
    "        print(\"NO\")"
   ]
  },
  {
   "cell_type": "code",
   "execution_count": null,
   "id": "b09ef036",
   "metadata": {},
   "outputs": [],
   "source": [
    "# Validating and Parsing Email Addresses\n",
    "import re\n",
    "import email.utils\n",
    "n = int(input().strip())\n",
    "temp =[]\n",
    "a = re.compile(r'<[a-z0-9][\\w._-]+@[a-z]+\\.[a-z]{1,3}>', re.I)\n",
    "for _ in range(n):\n",
    "    temp.append(input().strip())\n",
    "for i, x in enumerate(temp):\n",
    "    v =  a.search(x)\n",
    "    if v:\n",
    "        print(temp[i])"
   ]
  },
  {
   "cell_type": "code",
   "execution_count": null,
   "id": "8cd322eb",
   "metadata": {},
   "outputs": [],
   "source": [
    "#Hex Color Code\n",
    "import re\n",
    "\n",
    "T = int(input())\n",
    "in_css = False\n",
    "for _ in range(T):\n",
    "    s = input()\n",
    "    if '{' in s:\n",
    "        in_css = True\n",
    "    elif '}' in s:\n",
    "        in_css = False\n",
    "    elif in_css:\n",
    "        for color in re.findall('#[0-9a-fA-F]{3,6}', s):\n",
    "            print(color)"
   ]
  },
  {
   "cell_type": "code",
   "execution_count": null,
   "id": "04231166",
   "metadata": {},
   "outputs": [],
   "source": [
    "#HTML Parser - Part 1\n",
    "from html.parser import HTMLParser\n",
    "\n",
    "\n",
    "class MyHTMLParser(HTMLParser):\n",
    "    def handle_starttag(self, tag, attrs):\n",
    "        print ('Start :', tag)\n",
    "        for ele in attrs:\n",
    "            print ('->', ele[0], '>', ele[1])\n",
    "\n",
    "    def handle_endtag(self, tag):\n",
    "        print ('End   :', tag)\n",
    "\n",
    "    def handle_startendtag(self, tag, attrs):\n",
    "        print ('Empty :', tag)\n",
    "        for ele in attrs:\n",
    "            print ('->', ele[0], '>', ele[1])\n",
    "\n",
    "\n",
    "parser = MyHTMLParser()\n",
    "for _ in range(int(input())):\n",
    "    parser.feed(input())"
   ]
  },
  {
   "cell_type": "code",
   "execution_count": null,
   "id": "955cacb8",
   "metadata": {},
   "outputs": [],
   "source": [
    "#HTML Parser - Part 2\n",
    "from html.parser import HTMLParser\n",
    "\n",
    "\n",
    "class MyHTMLParser(HTMLParser):\n",
    "    def handle_comment(self, comment):\n",
    "        if '\\n' in comment:\n",
    "            print('>>> Multi-line Comment')\n",
    "        else:\n",
    "            print('>>> Single-line Comment')\n",
    "\n",
    "        print(comment)\n",
    "\n",
    "    def handle_data(self, data):\n",
    "        if data == '\\n': return\n",
    "        print('>>> Data')\n",
    "        print(data)\n",
    "\n",
    "\n",
    "html = \"\"\n",
    "for i in range(int(input())):\n",
    "    html += input().rstrip()\n",
    "    html += '\\n'\n",
    "\n",
    "parser = MyHTMLParser()\n",
    "parser.feed(html)\n",
    "parser.close()\n"
   ]
  },
  {
   "cell_type": "code",
   "execution_count": null,
   "id": "55d515e1",
   "metadata": {},
   "outputs": [],
   "source": [
    "#Detect HTML Tags, Attributes and Attribute Values\n",
    "from html.parser import HTMLParser\n",
    "class MyHTMLParser(HTMLParser):\n",
    "    def handle_starttag(self, tag, attrs):\n",
    "        print(tag)\n",
    "        [print('-> {} > {}'.format(*attr)) for attr in attrs]\n",
    "        \n",
    "html = '\\n'.join([input() for _ in range(int(input()))])\n",
    "parser = MyHTMLParser()\n",
    "parser.feed(html)\n",
    "parser.close()"
   ]
  },
  {
   "cell_type": "code",
   "execution_count": null,
   "id": "6a565318",
   "metadata": {},
   "outputs": [],
   "source": [
    "#Validating UID\n",
    "import re\n",
    "\n",
    "for i in range(int(input())):\n",
    "    N = input().strip()\n",
    "    if N.isalnum() and len(N) == 10:\n",
    "        if bool(re.search(r'(.*[A-Z]){2,}',N)) and bool(re.search(r'(.*[0-9]){3,}',N)):\n",
    "            if re.search(r'.*(.).*\\1+.*',N):\n",
    "                print('Invalid')\n",
    "            else:\n",
    "                print('Valid')\n",
    "        else:\n",
    "            print('Invalid')\n",
    "    else:\n",
    "        print('Invalid')"
   ]
  },
  {
   "cell_type": "code",
   "execution_count": null,
   "id": "7730c394",
   "metadata": {},
   "outputs": [],
   "source": [
    "#Validating Credit Card Numbers\n",
    "\n",
    "\n",
    "import re\n",
    "\n",
    "start_with_456 = lambda x: x[0]=='4' or x[0]=='5' or x[0]=='6'\n",
    "\n",
    "contain_16_digits = lambda x: bool(re.fullmatch(r'\\d{16}', ''.join(x.split('-'))))\n",
    "\n",
    "groups_of_4 = lambda x: all([len(i)==4 for i in x.split('-') if '-' in x])\n",
    "    \n",
    "repeating_characters = lambda x: not(bool(re.search(r'(\\d)\\1{3,}', ''.join(x.split('-')))))\n",
    "    \n",
    "tests = [start_with_456, contain_16_digits, groups_of_4, repeating_characters]\n",
    "\n",
    "N = int(input())\n",
    "for _ in range(N):\n",
    "    s = input()\n",
    "    if all(map(lambda x: x(s), tests)):\n",
    "        print('Valid')\n",
    "    else:\n",
    "        print('Invalid')"
   ]
  },
  {
   "cell_type": "code",
   "execution_count": null,
   "id": "1cfee9f6",
   "metadata": {},
   "outputs": [],
   "source": [
    "#Validating Postal Codes\n",
    "regex_integer_in_range = r\"^[1-9][\\d]{5}$\"    # Do not delete 'r'.\n",
    "regex_alternating_repetitive_digit_pair = r\"(\\d)(?=\\d\\1)\"    # Do not delete 'r'.\n",
    "\n",
    "\n",
    "import re\n",
    "P = input()\n",
    "\n",
    "print (bool(re.match(regex_integer_in_range, P)) \n",
    "and len(re.findall(regex_alternating_repetitive_digit_pair, P)) < 2)"
   ]
  },
  {
   "cell_type": "code",
   "execution_count": null,
   "id": "c3d8844d",
   "metadata": {},
   "outputs": [],
   "source": [
    "#Matrix scripts (discussion)\n",
    "import math\n",
    "import os\n",
    "import random\n",
    "import re\n",
    "import sys\n",
    "\n",
    "\n",
    "\n",
    "\n",
    "first_multiple_input = input().rstrip().split()\n",
    "\n",
    "n = int(first_multiple_input[0])\n",
    "\n",
    "m = int(first_multiple_input[1])\n",
    "\n",
    "matrix = []\n",
    "\n",
    "for _ in range(n):\n",
    "    matrix_item = input()\n",
    "    matrix.append(matrix_item)\n",
    "message = \"\"\n",
    "for column in range(m):\n",
    "    for row in range(n):\n",
    "        message += matrix[row][column]        \n",
    "\n",
    "print(re.sub(r\"(?<=\\w)([^\\w]+)(?=\\w)\", \" \", message))\n"
   ]
  },
  {
   "cell_type": "markdown",
   "id": "9b6fa16b",
   "metadata": {},
   "source": [
    "## XML (2)"
   ]
  },
  {
   "cell_type": "code",
   "execution_count": 11,
   "id": "06649c10",
   "metadata": {},
   "outputs": [
    {
     "name": "stdout",
     "output_type": "stream",
     "text": [
      "\n",
      "\n"
     ]
    }
   ],
   "source": [
    "#XML 1 - Find the Score\n",
    "import sys\n",
    "import xml.etree.ElementTree as etree\n",
    "\n",
    "def get_attr_number(node):\n",
    "    return len(node.attrib)+ sum((get_attr_number(a) for a in node))\n",
    "\n",
    "if __name__ == '__main__':\n",
    "    sys.stdin.readline()\n",
    "    xml = sys.stdin.read()\n",
    "    tree = etree.ElementTree(etree.fromstring(xml))\n",
    "    root = tree.getroot()\n",
    "    print(get_attr_number(root))"
   ]
  },
  {
   "cell_type": "code",
   "execution_count": null,
   "id": "b89c1efd",
   "metadata": {},
   "outputs": [],
   "source": [
    "#XML2 - Find the Maximum Depthb\n",
    "import xml.etree.ElementTree as etree\n",
    "\n",
    "maxdepth = 0\n",
    "def depth(elem, level):\n",
    "    global maxdepth\n",
    "    if (level == maxdepth):\n",
    "        maxdepth += 1\n",
    "    for child in elem:\n",
    "        depth(child, level + 1)\n",
    "    return maxdepth\n",
    "\n",
    "if __name__ == '__main__':\n",
    "    n = int(input())\n",
    "    xml = \"\"\n",
    "    for i in range(n):\n",
    "        xml =  xml + input() + \"\\n\"\n",
    "    tree = etree.ElementTree(etree.fromstring(xml))\n",
    "    depth(tree.getroot(), -1)\n",
    "    print(maxdepth)"
   ]
  },
  {
   "cell_type": "markdown",
   "id": "d2bddb81",
   "metadata": {},
   "source": [
    "## Closures and Decorations (2)"
   ]
  },
  {
   "cell_type": "code",
   "execution_count": null,
   "id": "271a9085",
   "metadata": {},
   "outputs": [],
   "source": [
    "#Standardize Mobile Number Using Decorators\n",
    "def wrapper(f):\n",
    "    def fun(l):\n",
    "        f('+91 '+ i[-10:-5] +' '+ i[-5:] for i in l)\n",
    "        \n",
    "    return fun\n",
    "\n",
    "@wrapper\n",
    "def sort_phone(l):\n",
    "    print(*sorted(l), sep='\\n')\n",
    "\n",
    "if __name__ == '__main__':\n",
    "    l = [input() for _ in range(int(input()))]\n",
    "    sort_phone(l) "
   ]
  },
  {
   "cell_type": "code",
   "execution_count": null,
   "id": "0064af2f",
   "metadata": {},
   "outputs": [],
   "source": [
    "#Decorators 2 - Name Directory\n",
    "\n",
    "import operator\n",
    "\n",
    "\n",
    "def person_lister(f):\n",
    "    def inner(people):\n",
    "        return map(f, sorted([[e[0], e[1], int(e[2]), e[3]] for e in people], key=operator.itemgetter(2)))\n",
    "    return inner\n",
    "\n",
    "@person_lister\n",
    "def name_format(person):\n",
    "    return (\"Mr. \" if person[3] == \"M\" else \"Ms. \") + person[0] + \" \" + person[1]\n",
    "\n",
    "if __name__ == '__main__':\n",
    "    people = [input().split() for i in range(int(input()))]\n",
    "    print(*name_format(people), sep='\\n')"
   ]
  },
  {
   "cell_type": "markdown",
   "id": "ff7a5c0a",
   "metadata": {},
   "source": [
    "## Numpy (15)"
   ]
  },
  {
   "cell_type": "code",
   "execution_count": null,
   "id": "26da0639",
   "metadata": {},
   "outputs": [],
   "source": [
    "#Arrays\n",
    "import numpy\n",
    "\n",
    "def arrays(arr):\n",
    "    return numpy.flipud(numpy.array(arr, float))\n",
    "\n",
    "arr = input().strip().split(' ')\n",
    "result = arrays(arr)\n",
    "print(result)"
   ]
  },
  {
   "cell_type": "code",
   "execution_count": null,
   "id": "72c38d6c",
   "metadata": {},
   "outputs": [],
   "source": [
    "# Shape and Reshape\n",
    "import numpy as np\n",
    "l1 = [int(i) for i in input().split()]\n",
    "\n",
    "print(np.reshape(np.array(l1),(3,3)))\n"
   ]
  },
  {
   "cell_type": "code",
   "execution_count": null,
   "id": "0e740911",
   "metadata": {},
   "outputs": [],
   "source": [
    "#Transpose and Flatten\n",
    "import numpy as np\n",
    "N, M = map(int,input().split())\n",
    "m = np.array([input().strip().split() for _ in range(N)], int)\n",
    "\n",
    "M_T = np.transpose(np.array(m, int))\n",
    "print(M_T)\n",
    "print(m.flatten())"
   ]
  },
  {
   "cell_type": "code",
   "execution_count": null,
   "id": "906a02a4",
   "metadata": {},
   "outputs": [],
   "source": [
    "#Concatenate\n",
    "import numpy as np\n",
    "n,m,p = map(int, input().split())\n",
    "nxp = np.array([input().strip().split() for _ in range(n)],int)\n",
    "mxp = np.array([input().strip().split() for _ in range(m)],int)\n",
    "print(np.concatenate((nxp,mxp), axis = 0))"
   ]
  },
  {
   "cell_type": "code",
   "execution_count": null,
   "id": "50db5239",
   "metadata": {},
   "outputs": [],
   "source": [
    "#Zeros and Ones\n",
    "import numpy\n",
    "nmp = list(map(int, input().split()))\n",
    "\n",
    "print(numpy.zeros(nmp, dtype = numpy.int))\n",
    "print(numpy.ones(nmp, dtype = numpy.int))"
   ]
  },
  {
   "cell_type": "code",
   "execution_count": null,
   "id": "3362cc58",
   "metadata": {},
   "outputs": [],
   "source": [
    "#Eye and Identity\n",
    "import numpy\n",
    "numpy.set_printoptions(legacy='1.13')\n",
    "n,m = map(int,input().split())\n",
    "print(numpy.eye(n,m))"
   ]
  },
  {
   "cell_type": "code",
   "execution_count": null,
   "id": "310c2de6",
   "metadata": {},
   "outputs": [],
   "source": [
    "#Array mathematics\n",
    "import numpy as np\n",
    "n,m = map(int,input().split())\n",
    "\n",
    "a = np.array([input().strip().split() for _ in range(n)],dtype=int)\n",
    "b = np.array([input().strip().split() for _ in range(n)],dtype=int)\n",
    "\n",
    "print(a+b)\n",
    "print(a-b)\n",
    "print(a*b)\n",
    "print(np.array(a/b,int))\n",
    "print(a%b)\n",
    "print(a**b)"
   ]
  },
  {
   "cell_type": "code",
   "execution_count": null,
   "id": "363a0a27",
   "metadata": {},
   "outputs": [],
   "source": [
    "#Floor, Ceil and Rint\n",
    "import numpy as np\n",
    "np.set_printoptions(legacy = '1.13')\n",
    "A = list(map(float, input().strip().split()))\n",
    "print(np.floor(A))\n",
    "print(np.ceil(A))\n",
    "print(np.rint(A))\n"
   ]
  },
  {
   "cell_type": "code",
   "execution_count": null,
   "id": "5f7fe7fb",
   "metadata": {},
   "outputs": [],
   "source": [
    "#Sum and Prod\n",
    "import numpy as np\n",
    "n,m = map(int, input().strip().split())\n",
    "\n",
    "A = np.array([input().split() for _ in range(n)], int)\n",
    "print(np.prod(np.sum(A, axis=0), axis=0))"
   ]
  },
  {
   "cell_type": "code",
   "execution_count": null,
   "id": "182b2d57",
   "metadata": {},
   "outputs": [],
   "source": [
    "#Min and Max\n",
    "import numpy as np\n",
    "n,m = map(int, input().strip().split())\n",
    "arr = np.array([input().split() for _ in range(n)],int)\n",
    "min1 = np.min(arr, axis = 1)\n",
    "print(np.max(min1))"
   ]
  },
  {
   "cell_type": "code",
   "execution_count": null,
   "id": "84e9a46f",
   "metadata": {},
   "outputs": [],
   "source": [
    "#Mean, Var, and Std\n",
    "import numpy as np\n",
    "\n",
    "n,m = map(int, input().strip().split())\n",
    "arr = np.array([input().split() for _ in range(n)],int)\n",
    "print(np.mean(arr,axis=1))\n",
    "print(np.var(arr,axis=0))\n",
    "rnd = np.around(np.std(arr), 11)\n",
    "print(rnd)"
   ]
  },
  {
   "cell_type": "code",
   "execution_count": null,
   "id": "ef101c37",
   "metadata": {},
   "outputs": [],
   "source": [
    "#Dot and Cross\n",
    "import numpy as np\n",
    "n = int(input())\n",
    "a = np.array([input().strip().split() for _ in range(n)],int)\n",
    "b = np.array([input().strip().split() for _ in range(n)],int)\n",
    "\n",
    "print(np.dot(a,b))"
   ]
  },
  {
   "cell_type": "code",
   "execution_count": null,
   "id": "ae7f06db",
   "metadata": {},
   "outputs": [],
   "source": [
    "#Inner and Outer\n",
    "import numpy as np\n",
    "a = np.array([input().strip().split()],int)\n",
    "b = np.array([input().strip().split()],int)\n",
    "print(int(np.inner(a,b)))\n",
    "print(np.outer(a,b))"
   ]
  },
  {
   "cell_type": "code",
   "execution_count": null,
   "id": "55995467",
   "metadata": {},
   "outputs": [],
   "source": [
    "#Polynomials\n",
    "import numpy as np\n",
    "coef = list(map(float,input().split()))\n",
    "x = float(input())\n",
    "\n",
    "print(np.polyval(coef,x))"
   ]
  },
  {
   "cell_type": "code",
   "execution_count": null,
   "id": "55626c6c",
   "metadata": {},
   "outputs": [],
   "source": [
    "#Linear Algebra\n",
    "import numpy as np\n",
    "n = int(input())\n",
    "a = np.array([input().split() for _ in range(n)],float)\n",
    "print(np.around(np.linalg.det(a), 2))"
   ]
  },
  {
   "cell_type": "markdown",
   "id": "de2f9c1b",
   "metadata": {},
   "source": [
    "# Problem 2"
   ]
  },
  {
   "cell_type": "code",
   "execution_count": null,
   "id": "186502d6",
   "metadata": {},
   "outputs": [],
   "source": [
    "#Birthday candles\n",
    "def birthdayCakeCandles(candles):\n",
    "    m = max(candles)\n",
    "    res = 0\n",
    "    for i in candles:\n",
    "        if i == m:\n",
    "            res+=1\n",
    "    return res"
   ]
  },
  {
   "cell_type": "code",
   "execution_count": null,
   "id": "ebeab9d1",
   "metadata": {},
   "outputs": [],
   "source": [
    "#Number Line Jumps\n",
    "def kangaroo(x1, v1, x2, v2):\n",
    "    if x1 < x2 and v1 < v2:\n",
    "        return 'NO'\n",
    "    else:\n",
    "        if v1!=v2 and (x2-x1)%(v2-v1)==0:\n",
    "            return 'YES' \n",
    "        else:\n",
    "            return 'NO'\n"
   ]
  },
  {
   "cell_type": "code",
   "execution_count": null,
   "id": "ec8005bc",
   "metadata": {},
   "outputs": [],
   "source": [
    "#Viral advestising\n",
    "def viralAdvertising(n):\n",
    "    people = 5\n",
    "    tot = 0\n",
    "    for i in range(n):\n",
    "        res = int(people/2)\n",
    "        tot+=res\n",
    "        people = res*3\n",
    "    return tot"
   ]
  },
  {
   "cell_type": "code",
   "execution_count": 12,
   "id": "56c9a318",
   "metadata": {
    "collapsed": true
   },
   "outputs": [
    {
     "data": {
      "text/plain": [
       "'ciaociao'"
      ]
     },
     "execution_count": 12,
     "metadata": {},
     "output_type": "execute_result"
    }
   ],
   "source": [
    "#Recursive Digit Sum\n",
    "def superDigit(n, k):\n",
    "    if(len(n) == 1):\n",
    "        return int(n)\n",
    "    else:\n",
    "        somma = sum(list(map(int, str(n))))\n",
    "        s_con = somma*k\n",
    "    return superDigit(str(s_con), 1)\n"
   ]
  },
  {
   "cell_type": "code",
   "execution_count": null,
   "id": "a16d945f",
   "metadata": {},
   "outputs": [],
   "source": [
    "#Insertion Sort - Part 1\n",
    "def insertionSort1(n, arr):\n",
    "    e = arr[-1]\n",
    "    idx = n-2\n",
    "    while(e<arr[idx])and(idx>=0):\n",
    "        arr[idx+1]=arr[idx]\n",
    "        print(*arr)\n",
    "        idx-=1\n",
    "    arr[idx+1]=e\n",
    "    print(*arr)"
   ]
  },
  {
   "cell_type": "code",
   "execution_count": null,
   "id": "080e45cb",
   "metadata": {},
   "outputs": [],
   "source": [
    "#Insertion Sort - Part 2\n",
    "def insertionSort2(n, arr):\n",
    "    for i in range(1,len(arr)):\n",
    "        key = arr[i]\n",
    "        j=i-1\n",
    "        while j>=0 and arr[j]>key:\n",
    "            arr[j+1]=arr[j]\n",
    "            j-=1\n",
    "        arr[j+1]= key\n",
    "        print(*arr)"
   ]
  }
 ],
 "metadata": {
  "kernelspec": {
   "display_name": "Python 3 (ipykernel)",
   "language": "python",
   "name": "python3"
  },
  "language_info": {
   "codemirror_mode": {
    "name": "ipython",
    "version": 3
   },
   "file_extension": ".py",
   "mimetype": "text/x-python",
   "name": "python",
   "nbconvert_exporter": "python",
   "pygments_lexer": "ipython3",
   "version": "3.7.11"
  }
 },
 "nbformat": 4,
 "nbformat_minor": 5
}
